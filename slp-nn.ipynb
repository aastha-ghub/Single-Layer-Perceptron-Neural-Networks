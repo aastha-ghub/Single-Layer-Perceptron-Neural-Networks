{
  "nbformat": 4,
  "nbformat_minor": 0,
  "metadata": {
    "colab": {
      "name": "PGA-02ONL.ipynb",
      "provenance": [],
      "collapsed_sections": []
    },
    "kernelspec": {
      "name": "python3",
      "display_name": "Python 3"
    },
    "language_info": {
      "name": "python"
    }
  },
  "cells": [
    {
      "cell_type": "markdown",
      "source": [
        "Bash commands to unzip the data for analysis"
      ],
      "metadata": {
        "id": "vKCu6g1J40Mh"
      }
    },
    {
      "cell_type": "code",
      "execution_count": null,
      "metadata": {
        "id": "Kv3rEBQ82qa-",
        "colab": {
          "base_uri": "https://localhost:8080/"
        },
        "outputId": "626130a1-1c1f-41a1-b6db-4c5e96bd4fb1"
      },
      "outputs": [
        {
          "output_type": "stream",
          "name": "stdout",
          "text": [
            "Archive:  /content/digit-recognizer (1).zip\n",
            "replace sample_submission.csv? [y]es, [n]o, [A]ll, [N]one, [r]ename: A\n",
            "  inflating: sample_submission.csv   \n",
            "  inflating: test.csv                \n",
            "  inflating: train.csv               \n"
          ]
        }
      ],
      "source": [
        "!unzip '/content/digit-recognizer (1).zip'"
      ]
    },
    {
      "cell_type": "code",
      "source": [
        ""
      ],
      "metadata": {
        "id": "NiE2Swj_qiIt"
      },
      "execution_count": null,
      "outputs": []
    },
    {
      "cell_type": "markdown",
      "source": [
        "# Implementation using Sklearn"
      ],
      "metadata": {
        "id": "i7AbByOnL3O4"
      }
    },
    {
      "cell_type": "markdown",
      "source": [
        "Import Libraries"
      ],
      "metadata": {
        "id": "uQTjJFxKCZMn"
      }
    },
    {
      "cell_type": "code",
      "source": [
        "import pandas as pd\n",
        "import numpy as np\n",
        "import matplotlib.pyplot as plt\n",
        "from sklearn.model_selection import train_test_split\n",
        "from sklearn.linear_model import Perceptron\n",
        "from sklearn.metrics import confusion_matrix, classification_report"
      ],
      "metadata": {
        "id": "oBjFFN1YCY2k"
      },
      "execution_count": null,
      "outputs": []
    },
    {
      "cell_type": "markdown",
      "source": [
        "Loading the Data and auditing the data"
      ],
      "metadata": {
        "id": "RTuexbqtDblh"
      }
    },
    {
      "cell_type": "code",
      "source": [
        "train = pd.read_csv('/content/train.csv')\n",
        "test = pd.read_csv('/content/test.csv')"
      ],
      "metadata": {
        "id": "5c6CpF1EDa7m"
      },
      "execution_count": null,
      "outputs": []
    },
    {
      "cell_type": "markdown",
      "source": [
        "Check the shape of data before transformation"
      ],
      "metadata": {
        "id": "9-yMcvh5efVM"
      }
    },
    {
      "cell_type": "code",
      "source": [
        "print(train.shape)\n",
        "print(test.shape)"
      ],
      "metadata": {
        "colab": {
          "base_uri": "https://localhost:8080/"
        },
        "id": "Vp2WnWdtDo9H",
        "outputId": "4c524057-cfd6-4659-ae19-82ac64222aff"
      },
      "execution_count": null,
      "outputs": [
        {
          "output_type": "stream",
          "name": "stdout",
          "text": [
            "(42000, 785)\n",
            "(28000, 784)\n"
          ]
        }
      ]
    },
    {
      "cell_type": "markdown",
      "source": [
        "Divide the data into X & Y"
      ],
      "metadata": {
        "id": "rwJa_-j0eiu9"
      }
    },
    {
      "cell_type": "code",
      "source": [
        "X = train.iloc[:,1:]\n",
        "Y = train['label']"
      ],
      "metadata": {
        "id": "hB6OvsjmeC0m"
      },
      "execution_count": null,
      "outputs": []
    },
    {
      "cell_type": "markdown",
      "source": [
        "Shape after transformation"
      ],
      "metadata": {
        "id": "SsE2YaRrelPO"
      }
    },
    {
      "cell_type": "code",
      "source": [
        "print(X.shape)\n",
        "print(Y.shape)"
      ],
      "metadata": {
        "colab": {
          "base_uri": "https://localhost:8080/"
        },
        "id": "acC0Ma7veL4o",
        "outputId": "4c4c0635-22fc-404a-a1b4-4f5629c1e7b2"
      },
      "execution_count": null,
      "outputs": [
        {
          "output_type": "stream",
          "name": "stdout",
          "text": [
            "(42000, 784)\n",
            "(42000,)\n"
          ]
        }
      ]
    },
    {
      "cell_type": "markdown",
      "source": [
        "Split the data into train test split"
      ],
      "metadata": {
        "id": "BVEiTmfBfNwl"
      }
    },
    {
      "cell_type": "code",
      "source": [
        "x_train, x_test, y_train, y_test = train_test_split(X,Y, test_size=0.2, random_state=123)"
      ],
      "metadata": {
        "id": "qL1sWXD-fRBi"
      },
      "execution_count": null,
      "outputs": []
    },
    {
      "cell_type": "code",
      "source": [
        "print(x_train.shape)\n",
        "print(x_test.shape)\n",
        "print(y_train.shape)\n",
        "print(y_test.shape)"
      ],
      "metadata": {
        "colab": {
          "base_uri": "https://localhost:8080/"
        },
        "id": "l88Zlpzkfd9B",
        "outputId": "e11f25bc-6802-4fba-b53d-ee906f161e51"
      },
      "execution_count": null,
      "outputs": [
        {
          "output_type": "stream",
          "name": "stdout",
          "text": [
            "(33600, 784)\n",
            "(8400, 784)\n",
            "(33600,)\n",
            "(8400,)\n"
          ]
        }
      ]
    },
    {
      "cell_type": "markdown",
      "source": [
        "Implement Single Layer Perceptron. Evaluate performance and discuss reasons of failure"
      ],
      "metadata": {
        "id": "2SrbSanyf7kn"
      }
    },
    {
      "cell_type": "code",
      "source": [
        "per = Perceptron(verbose=2)\n",
        "per.fit(x_train, y_train)\n",
        "preds_per = per.predict(x_test)\n",
        "cm_slp = confusion_matrix(y_test, preds_per)\n",
        "clas_rep_slp = classification_report(y_test, preds_per)"
      ],
      "metadata": {
        "id": "SMQS0YAKgDmZ",
        "colab": {
          "base_uri": "https://localhost:8080/"
        },
        "outputId": "8d66817a-44db-47a6-89e9-882f80dd5302"
      },
      "execution_count": null,
      "outputs": [
        {
          "output_type": "stream",
          "name": "stderr",
          "text": [
            "[Parallel(n_jobs=1)]: Using backend SequentialBackend with 1 concurrent workers.\n"
          ]
        },
        {
          "output_type": "stream",
          "name": "stdout",
          "text": [
            "-- Epoch 1\n",
            "Norm: 33680.40, NNZs: 599, Bias: -92.000000, T: 33600, Avg. loss: 46817.951667\n",
            "Total training time: 0.05 seconds.\n",
            "-- Epoch 2\n",
            "Norm: 42819.49, NNZs: 607, Bias: -161.000000, T: 67200, Avg. loss: 41184.869077\n",
            "Total training time: 0.11 seconds.\n",
            "-- Epoch 3\n",
            "Norm: 48607.75, NNZs: 614, Bias: -222.000000, T: 100800, Avg. loss: 36891.702232\n",
            "Total training time: 0.16 seconds.\n",
            "-- Epoch 4\n",
            "Norm: 54442.08, NNZs: 625, Bias: -281.000000, T: 134400, Avg. loss: 35999.461042\n",
            "Total training time: 0.22 seconds.\n",
            "-- Epoch 5\n",
            "Norm: 58608.01, NNZs: 631, Bias: -333.000000, T: 168000, Avg. loss: 37009.589702\n",
            "Total training time: 0.28 seconds.\n",
            "-- Epoch 6\n",
            "Norm: 61946.25, NNZs: 635, Bias: -383.000000, T: 201600, Avg. loss: 34799.316220\n",
            "Total training time: 0.34 seconds.\n",
            "-- Epoch 7\n",
            "Norm: 65207.63, NNZs: 637, Bias: -432.000000, T: 235200, Avg. loss: 36238.479613\n",
            "Total training time: 0.39 seconds.\n",
            "-- Epoch 8\n",
            "Norm: 68995.89, NNZs: 639, Bias: -476.000000, T: 268800, Avg. loss: 34062.205625\n",
            "Total training time: 0.45 seconds.\n",
            "-- Epoch 9\n",
            "Norm: 72716.99, NNZs: 639, Bias: -521.000000, T: 302400, Avg. loss: 32438.202173\n",
            "Total training time: 0.50 seconds.\n",
            "-- Epoch 10\n",
            "Norm: 75447.16, NNZs: 639, Bias: -563.000000, T: 336000, Avg. loss: 32292.536667\n",
            "Total training time: 0.55 seconds.\n",
            "-- Epoch 11\n",
            "Norm: 77822.41, NNZs: 639, Bias: -609.000000, T: 369600, Avg. loss: 34301.058214\n",
            "Total training time: 0.61 seconds.\n",
            "-- Epoch 12\n",
            "Norm: 81007.01, NNZs: 639, Bias: -661.000000, T: 403200, Avg. loss: 35224.191131\n",
            "Total training time: 0.66 seconds.\n",
            "-- Epoch 13\n",
            "Norm: 82890.94, NNZs: 639, Bias: -705.000000, T: 436800, Avg. loss: 33747.325863\n",
            "Total training time: 0.72 seconds.\n",
            "-- Epoch 14\n",
            "Norm: 84973.26, NNZs: 639, Bias: -748.000000, T: 470400, Avg. loss: 31301.132321\n",
            "Total training time: 0.77 seconds.\n",
            "-- Epoch 15\n",
            "Norm: 87757.36, NNZs: 639, Bias: -792.000000, T: 504000, Avg. loss: 32312.222708\n",
            "Total training time: 0.82 seconds.\n",
            "-- Epoch 16\n",
            "Norm: 89517.12, NNZs: 639, Bias: -834.000000, T: 537600, Avg. loss: 31293.953988\n",
            "Total training time: 0.88 seconds.\n",
            "-- Epoch 17\n",
            "Norm: 92120.81, NNZs: 639, Bias: -879.000000, T: 571200, Avg. loss: 31823.835923\n",
            "Total training time: 0.93 seconds.\n",
            "-- Epoch 18\n",
            "Norm: 93354.02, NNZs: 639, Bias: -923.000000, T: 604800, Avg. loss: 32199.063512\n",
            "Total training time: 0.98 seconds.\n",
            "-- Epoch 19\n",
            "Norm: 95389.80, NNZs: 639, Bias: -962.000000, T: 638400, Avg. loss: 31501.624494\n",
            "Total training time: 1.04 seconds.\n",
            "-- Epoch 20\n",
            "Norm: 97060.82, NNZs: 639, Bias: -1013.000000, T: 672000, Avg. loss: 32789.124375\n",
            "Total training time: 1.09 seconds.\n",
            "-- Epoch 21\n",
            "Norm: 99342.75, NNZs: 639, Bias: -1061.000000, T: 705600, Avg. loss: 33667.573423\n",
            "Total training time: 1.15 seconds.\n",
            "Convergence after 21 epochs took 1.15 seconds\n",
            "-- Epoch 1\n",
            "Norm: 26398.31, NNZs: 560, Bias: -34.000000, T: 33600, Avg. loss: 25361.617619\n",
            "Total training time: 0.05 seconds.\n",
            "-- Epoch 2\n",
            "Norm: 31613.19, NNZs: 570, Bias: -58.000000, T: 67200, Avg. loss: 22125.669107\n",
            "Total training time: 0.11 seconds.\n",
            "-- Epoch 3\n"
          ]
        },
        {
          "output_type": "stream",
          "name": "stderr",
          "text": [
            "[Parallel(n_jobs=1)]: Done   1 out of   1 | elapsed:    1.1s remaining:    0.0s\n"
          ]
        },
        {
          "output_type": "stream",
          "name": "stdout",
          "text": [
            "Norm: 36264.55, NNZs: 571, Bias: -73.000000, T: 100800, Avg. loss: 21133.352976\n",
            "Total training time: 0.17 seconds.\n",
            "-- Epoch 4\n",
            "Norm: 38909.07, NNZs: 576, Bias: -84.000000, T: 134400, Avg. loss: 20576.478393\n",
            "Total training time: 0.23 seconds.\n",
            "-- Epoch 5\n",
            "Norm: 41697.16, NNZs: 578, Bias: -98.000000, T: 168000, Avg. loss: 19900.769613\n",
            "Total training time: 0.28 seconds.\n",
            "-- Epoch 6\n",
            "Norm: 44398.44, NNZs: 581, Bias: -105.000000, T: 201600, Avg. loss: 20754.749137\n",
            "Total training time: 0.33 seconds.\n",
            "-- Epoch 7\n",
            "Norm: 46842.38, NNZs: 583, Bias: -118.000000, T: 235200, Avg. loss: 19517.157589\n",
            "Total training time: 0.38 seconds.\n",
            "-- Epoch 8\n",
            "Norm: 49225.67, NNZs: 594, Bias: -128.000000, T: 268800, Avg. loss: 19386.208720\n",
            "Total training time: 0.43 seconds.\n",
            "-- Epoch 9\n",
            "Norm: 51823.38, NNZs: 599, Bias: -137.000000, T: 302400, Avg. loss: 18184.694405\n",
            "Total training time: 0.49 seconds.\n",
            "-- Epoch 10\n",
            "Norm: 54147.67, NNZs: 600, Bias: -143.000000, T: 336000, Avg. loss: 17881.692321\n",
            "Total training time: 0.54 seconds.\n",
            "-- Epoch 11\n",
            "Norm: 56021.15, NNZs: 604, Bias: -148.000000, T: 369600, Avg. loss: 18653.010893\n",
            "Total training time: 0.59 seconds.\n",
            "-- Epoch 12\n",
            "Norm: 58496.56, NNZs: 609, Bias: -153.000000, T: 403200, Avg. loss: 18471.054405\n",
            "Total training time: 0.64 seconds.\n",
            "-- Epoch 13\n",
            "Norm: 59823.30, NNZs: 609, Bias: -163.000000, T: 436800, Avg. loss: 18384.287500\n",
            "Total training time: 0.69 seconds.\n",
            "-- Epoch 14\n",
            "Norm: 61703.24, NNZs: 609, Bias: -173.000000, T: 470400, Avg. loss: 17105.853750\n",
            "Total training time: 0.74 seconds.\n",
            "-- Epoch 15\n",
            "Norm: 63489.23, NNZs: 612, Bias: -181.000000, T: 504000, Avg. loss: 18975.412976\n",
            "Total training time: 0.80 seconds.\n",
            "-- Epoch 16\n",
            "Norm: 65371.44, NNZs: 612, Bias: -186.000000, T: 537600, Avg. loss: 17669.717976\n",
            "Total training time: 0.85 seconds.\n",
            "-- Epoch 17\n",
            "Norm: 66946.91, NNZs: 614, Bias: -194.000000, T: 571200, Avg. loss: 17663.917560\n",
            "Total training time: 0.90 seconds.\n",
            "-- Epoch 18\n",
            "Norm: 68839.28, NNZs: 617, Bias: -203.000000, T: 604800, Avg. loss: 18486.346875\n",
            "Total training time: 0.95 seconds.\n",
            "-- Epoch 19\n",
            "Norm: 70613.40, NNZs: 617, Bias: -213.000000, T: 638400, Avg. loss: 18157.243452\n",
            "Total training time: 1.01 seconds.\n",
            "Convergence after 19 epochs took 1.01 seconds\n",
            "-- Epoch 1\n",
            "Norm: 37314.14, NNZs: 631, Bias: -88.000000, T: 33600, Avg. loss: 96577.045923\n",
            "Total training time: 0.05 seconds.\n",
            "-- Epoch 2\n",
            "Norm: 44128.72, NNZs: 636, Bias: -162.000000, T: 67200, Avg. loss: 90873.737083\n",
            "Total training time: 0.11 seconds.\n",
            "-- Epoch 3\n",
            "Norm: 50583.74, NNZs: 642, Bias: -231.000000, T: 100800, Avg. loss: 89628.583750\n",
            "Total training time: 0.16 seconds.\n",
            "-- Epoch 4\n",
            "Norm: 54168.58, NNZs: 643, Bias: -302.000000, T: 134400, Avg. loss: 90226.199018\n",
            "Total training time: 0.22 seconds.\n",
            "-- Epoch 5\n",
            "Norm: 56510.36, NNZs: 643, Bias: -357.000000, T: 168000, Avg. loss: 86301.561548\n",
            "Total training time: 0.27 seconds.\n",
            "-- Epoch 6\n",
            "Norm: 62285.13, NNZs: 644, Bias: -425.000000, T: 201600, Avg. loss: 88602.669762\n",
            "Total training time: 0.33 seconds.\n",
            "-- Epoch 7\n",
            "Norm: 63389.29, NNZs: 644, Bias: -489.000000, T: 235200, Avg. loss: 87977.359286\n",
            "Total training time: 0.38 seconds.\n",
            "-- Epoch 8\n",
            "Norm: 66491.61, NNZs: 644, Bias: -556.000000, T: 268800, Avg. loss: 85774.638423\n",
            "Total training time: 0.44 seconds.\n",
            "-- Epoch 9\n",
            "Norm: 69262.00, NNZs: 644, Bias: -609.000000, T: 302400, Avg. loss: 87651.091399\n",
            "Total training time: 0.49 seconds.\n",
            "-- Epoch 10\n",
            "Norm: 71601.70, NNZs: 644, Bias: -668.000000, T: 336000, Avg. loss: 85173.424613\n",
            "Total training time: 0.55 seconds.\n",
            "-- Epoch 11\n",
            "Norm: 74203.18, NNZs: 645, Bias: -723.000000, T: 369600, Avg. loss: 86586.834167\n",
            "Total training time: 0.60 seconds.\n",
            "-- Epoch 12\n",
            "Norm: 75418.48, NNZs: 646, Bias: -781.000000, T: 403200, Avg. loss: 84865.833690\n",
            "Total training time: 0.65 seconds.\n",
            "-- Epoch 13\n",
            "Norm: 76865.98, NNZs: 646, Bias: -832.000000, T: 436800, Avg. loss: 90802.518750\n",
            "Total training time: 0.71 seconds.\n",
            "-- Epoch 14\n",
            "Norm: 78601.91, NNZs: 646, Bias: -887.000000, T: 470400, Avg. loss: 89849.372232\n",
            "Total training time: 0.76 seconds.\n",
            "-- Epoch 15\n",
            "Norm: 81254.93, NNZs: 650, Bias: -951.000000, T: 504000, Avg. loss: 84589.548869\n",
            "Total training time: 0.82 seconds.\n",
            "-- Epoch 16\n",
            "Norm: 82067.45, NNZs: 649, Bias: -1013.000000, T: 537600, Avg. loss: 88280.016190\n",
            "Total training time: 0.87 seconds.\n",
            "-- Epoch 17\n",
            "Norm: 84184.62, NNZs: 650, Bias: -1075.000000, T: 571200, Avg. loss: 85966.068036\n",
            "Total training time: 0.93 seconds.\n",
            "-- Epoch 18\n",
            "Norm: 85028.95, NNZs: 650, Bias: -1128.000000, T: 604800, Avg. loss: 88452.863333\n",
            "Total training time: 0.98 seconds.\n",
            "-- Epoch 19\n",
            "Norm: 86305.68, NNZs: 650, Bias: -1185.000000, T: 638400, Avg. loss: 83922.722500\n",
            "Total training time: 1.03 seconds.\n",
            "-- Epoch 20\n",
            "Norm: 87377.31, NNZs: 650, Bias: -1242.000000, T: 672000, Avg. loss: 87437.992798\n",
            "Total training time: 1.09 seconds.\n",
            "-- Epoch 21\n",
            "Norm: 88789.49, NNZs: 654, Bias: -1291.000000, T: 705600, Avg. loss: 86266.221339\n",
            "Total training time: 1.15 seconds.\n",
            "-- Epoch 22\n",
            "Norm: 89872.88, NNZs: 654, Bias: -1346.000000, T: 739200, Avg. loss: 84863.819226\n",
            "Total training time: 1.20 seconds.\n",
            "-- Epoch 23\n",
            "Norm: 90691.38, NNZs: 655, Bias: -1392.000000, T: 772800, Avg. loss: 84192.695446\n",
            "Total training time: 1.26 seconds.\n",
            "-- Epoch 24\n",
            "Norm: 92075.79, NNZs: 654, Bias: -1456.000000, T: 806400, Avg. loss: 89009.586488\n",
            "Total training time: 1.32 seconds.\n",
            "Convergence after 24 epochs took 1.32 seconds\n",
            "-- Epoch 1\n",
            "Norm: 35843.44, NNZs: 592, Bias: -183.000000, T: 33600, Avg. loss: 128480.352351\n",
            "Total training time: 0.05 seconds.\n",
            "-- Epoch 2\n",
            "Norm: 42126.43, NNZs: 601, Bias: -326.000000, T: 67200, Avg. loss: 129710.005357\n",
            "Total training time: 0.11 seconds.\n",
            "-- Epoch 3\n",
            "Norm: 47657.56, NNZs: 606, Bias: -466.000000, T: 100800, Avg. loss: 121485.599970\n",
            "Total training time: 0.16 seconds.\n",
            "-- Epoch 4\n",
            "Norm: 53381.81, NNZs: 608, Bias: -589.000000, T: 134400, Avg. loss: 124830.879792\n",
            "Total training time: 0.21 seconds.\n",
            "-- Epoch 5\n",
            "Norm: 57446.25, NNZs: 610, Bias: -717.000000, T: 168000, Avg. loss: 123217.713780\n",
            "Total training time: 0.27 seconds.\n",
            "-- Epoch 6\n",
            "Norm: 59583.12, NNZs: 610, Bias: -832.000000, T: 201600, Avg. loss: 124839.120506\n",
            "Total training time: 0.33 seconds.\n",
            "-- Epoch 7\n",
            "Norm: 61814.28, NNZs: 611, Bias: -969.000000, T: 235200, Avg. loss: 124496.203720\n",
            "Total training time: 0.38 seconds.\n",
            "-- Epoch 8\n",
            "Norm: 64293.43, NNZs: 611, Bias: -1105.000000, T: 268800, Avg. loss: 121835.435774\n",
            "Total training time: 0.44 seconds.\n",
            "Convergence after 8 epochs took 0.44 seconds\n",
            "-- Epoch 1\n",
            "Norm: 37641.17, NNZs: 632, Bias: -63.000000, T: 33600, Avg. loss: 80582.521369\n",
            "Total training time: 0.05 seconds.\n",
            "-- Epoch 2\n",
            "Norm: 45561.48, NNZs: 643, Bias: -110.000000, T: 67200, Avg. loss: 67452.582917\n",
            "Total training time: 0.10 seconds.\n",
            "-- Epoch 3\n",
            "Norm: 51531.62, NNZs: 657, Bias: -140.000000, T: 100800, Avg. loss: 65367.227470\n",
            "Total training time: 0.16 seconds.\n",
            "-- Epoch 4\n",
            "Norm: 56796.33, NNZs: 660, Bias: -176.000000, T: 134400, Avg. loss: 61077.277024\n",
            "Total training time: 0.21 seconds.\n",
            "-- Epoch 5\n",
            "Norm: 61779.10, NNZs: 661, Bias: -220.000000, T: 168000, Avg. loss: 62217.314673\n",
            "Total training time: 0.26 seconds.\n",
            "-- Epoch 6\n",
            "Norm: 66212.86, NNZs: 665, Bias: -257.000000, T: 201600, Avg. loss: 62441.151220\n",
            "Total training time: 0.32 seconds.\n",
            "-- Epoch 7\n",
            "Norm: 70281.72, NNZs: 665, Bias: -301.000000, T: 235200, Avg. loss: 60719.254881\n",
            "Total training time: 0.37 seconds.\n",
            "-- Epoch 8\n",
            "Norm: 73357.68, NNZs: 666, Bias: -339.000000, T: 268800, Avg. loss: 59862.561071\n",
            "Total training time: 0.43 seconds.\n",
            "-- Epoch 9\n",
            "Norm: 75843.56, NNZs: 668, Bias: -382.000000, T: 302400, Avg. loss: 59100.903899\n",
            "Total training time: 0.48 seconds.\n",
            "-- Epoch 10\n",
            "Norm: 78748.74, NNZs: 668, Bias: -416.000000, T: 336000, Avg. loss: 60639.541577\n",
            "Total training time: 0.54 seconds.\n",
            "-- Epoch 11\n",
            "Norm: 80260.03, NNZs: 668, Bias: -447.000000, T: 369600, Avg. loss: 59565.494315\n",
            "Total training time: 0.59 seconds.\n",
            "-- Epoch 12\n",
            "Norm: 82765.54, NNZs: 668, Bias: -475.000000, T: 403200, Avg. loss: 58853.275179\n",
            "Total training time: 0.64 seconds.\n",
            "-- Epoch 13\n",
            "Norm: 84879.71, NNZs: 668, Bias: -510.000000, T: 436800, Avg. loss: 60189.332113\n",
            "Total training time: 0.70 seconds.\n",
            "-- Epoch 14\n",
            "Norm: 86717.81, NNZs: 668, Bias: -555.000000, T: 470400, Avg. loss: 59021.259107\n",
            "Total training time: 0.75 seconds.\n",
            "-- Epoch 15\n",
            "Norm: 88321.25, NNZs: 668, Bias: -590.000000, T: 504000, Avg. loss: 60514.877024\n",
            "Total training time: 0.80 seconds.\n",
            "-- Epoch 16\n",
            "Norm: 90614.48, NNZs: 670, Bias: -625.000000, T: 537600, Avg. loss: 58115.752589\n",
            "Total training time: 0.86 seconds.\n",
            "-- Epoch 17\n",
            "Norm: 92847.08, NNZs: 670, Bias: -663.000000, T: 571200, Avg. loss: 60877.726012\n",
            "Total training time: 0.91 seconds.\n",
            "-- Epoch 18\n",
            "Norm: 94550.09, NNZs: 671, Bias: -694.000000, T: 604800, Avg. loss: 57533.169613\n",
            "Total training time: 0.97 seconds.\n",
            "-- Epoch 19\n",
            "Norm: 95684.10, NNZs: 671, Bias: -728.000000, T: 638400, Avg. loss: 59977.879911\n",
            "Total training time: 1.03 seconds.\n",
            "-- Epoch 20\n",
            "Norm: 96928.58, NNZs: 671, Bias: -761.000000, T: 672000, Avg. loss: 60506.035565\n",
            "Total training time: 1.09 seconds.\n",
            "-- Epoch 21\n",
            "Norm: 98871.28, NNZs: 671, Bias: -799.000000, T: 705600, Avg. loss: 57912.343601\n",
            "Total training time: 1.14 seconds.\n",
            "-- Epoch 22\n",
            "Norm: 99679.73, NNZs: 671, Bias: -832.000000, T: 739200, Avg. loss: 60952.210387\n",
            "Total training time: 1.19 seconds.\n",
            "-- Epoch 23\n",
            "Norm: 100897.16, NNZs: 672, Bias: -876.000000, T: 772800, Avg. loss: 61936.474762\n",
            "Total training time: 1.25 seconds.\n",
            "Convergence after 23 epochs took 1.25 seconds\n",
            "-- Epoch 1\n",
            "Norm: 42423.66, NNZs: 606, Bias: 27.000000, T: 33600, Avg. loss: 130188.282381\n",
            "Total training time: 0.06 seconds.\n",
            "-- Epoch 2\n",
            "Norm: 51881.43, NNZs: 619, Bias: 55.000000, T: 67200, Avg. loss: 119434.731429\n",
            "Total training time: 0.11 seconds.\n",
            "-- Epoch 3\n",
            "Norm: 57337.03, NNZs: 628, Bias: 90.000000, T: 100800, Avg. loss: 113136.772054\n",
            "Total training time: 0.17 seconds.\n",
            "-- Epoch 4\n",
            "Norm: 62414.69, NNZs: 639, Bias: 123.000000, T: 134400, Avg. loss: 113143.845446\n",
            "Total training time: 0.23 seconds.\n",
            "-- Epoch 5\n",
            "Norm: 68023.43, NNZs: 640, Bias: 158.000000, T: 168000, Avg. loss: 114112.914911\n",
            "Total training time: 0.28 seconds.\n",
            "-- Epoch 6\n",
            "Norm: 71561.46, NNZs: 641, Bias: 189.000000, T: 201600, Avg. loss: 111591.199643\n",
            "Total training time: 0.33 seconds.\n",
            "-- Epoch 7\n",
            "Norm: 75066.78, NNZs: 641, Bias: 217.000000, T: 235200, Avg. loss: 110774.543542\n",
            "Total training time: 0.39 seconds.\n",
            "-- Epoch 8\n",
            "Norm: 77962.25, NNZs: 641, Bias: 250.000000, T: 268800, Avg. loss: 109275.440357\n",
            "Total training time: 0.45 seconds.\n",
            "-- Epoch 9\n",
            "Norm: 81947.15, NNZs: 641, Bias: 277.000000, T: 302400, Avg. loss: 108801.517976\n",
            "Total training time: 0.50 seconds.\n",
            "-- Epoch 10\n",
            "Norm: 84724.58, NNZs: 641, Bias: 314.000000, T: 336000, Avg. loss: 110661.619821\n",
            "Total training time: 0.56 seconds.\n",
            "-- Epoch 11\n",
            "Norm: 87225.59, NNZs: 641, Bias: 354.000000, T: 369600, Avg. loss: 108303.698780\n",
            "Total training time: 0.61 seconds.\n",
            "-- Epoch 12\n",
            "Norm: 89073.29, NNZs: 641, Bias: 389.000000, T: 403200, Avg. loss: 106832.891131\n",
            "Total training time: 0.66 seconds.\n",
            "-- Epoch 13\n",
            "Norm: 91419.32, NNZs: 641, Bias: 416.000000, T: 436800, Avg. loss: 110941.566429\n",
            "Total training time: 0.72 seconds.\n",
            "-- Epoch 14\n",
            "Norm: 93994.71, NNZs: 641, Bias: 456.000000, T: 470400, Avg. loss: 113329.592262\n",
            "Total training time: 0.78 seconds.\n",
            "-- Epoch 15\n",
            "Norm: 95985.17, NNZs: 641, Bias: 495.000000, T: 504000, Avg. loss: 109959.708244\n",
            "Total training time: 0.83 seconds.\n",
            "-- Epoch 16\n",
            "Norm: 97348.95, NNZs: 642, Bias: 524.000000, T: 537600, Avg. loss: 110222.617411\n",
            "Total training time: 0.88 seconds.\n",
            "-- Epoch 17\n",
            "Norm: 99584.26, NNZs: 641, Bias: 554.000000, T: 571200, Avg. loss: 106344.273869\n",
            "Total training time: 0.94 seconds.\n",
            "-- Epoch 18\n",
            "Norm: 101776.71, NNZs: 642, Bias: 584.000000, T: 604800, Avg. loss: 106643.082440\n",
            "Total training time: 0.99 seconds.\n",
            "-- Epoch 19\n",
            "Norm: 103208.53, NNZs: 642, Bias: 613.000000, T: 638400, Avg. loss: 108343.745804\n",
            "Total training time: 1.05 seconds.\n",
            "-- Epoch 20\n",
            "Norm: 105713.85, NNZs: 642, Bias: 639.000000, T: 672000, Avg. loss: 110997.620417\n",
            "Total training time: 1.10 seconds.\n",
            "-- Epoch 21\n",
            "Norm: 107202.41, NNZs: 642, Bias: 672.000000, T: 705600, Avg. loss: 106189.241994\n",
            "Total training time: 1.15 seconds.\n",
            "-- Epoch 22\n",
            "Norm: 109639.44, NNZs: 642, Bias: 698.000000, T: 739200, Avg. loss: 105599.439702\n",
            "Total training time: 1.21 seconds.\n",
            "-- Epoch 23\n",
            "Norm: 110812.71, NNZs: 642, Bias: 732.000000, T: 772800, Avg. loss: 107623.893661\n",
            "Total training time: 1.27 seconds.\n",
            "-- Epoch 24\n",
            "Norm: 112581.36, NNZs: 642, Bias: 765.000000, T: 806400, Avg. loss: 107060.136429\n",
            "Total training time: 1.32 seconds.\n",
            "-- Epoch 25\n",
            "Norm: 114309.41, NNZs: 642, Bias: 798.000000, T: 840000, Avg. loss: 107680.858452\n",
            "Total training time: 1.37 seconds.\n",
            "-- Epoch 26\n",
            "Norm: 116237.10, NNZs: 642, Bias: 826.000000, T: 873600, Avg. loss: 108127.371905\n",
            "Total training time: 1.43 seconds.\n",
            "-- Epoch 27\n",
            "Norm: 117243.89, NNZs: 642, Bias: 861.000000, T: 907200, Avg. loss: 107025.967768\n",
            "Total training time: 1.48 seconds.\n",
            "Convergence after 27 epochs took 1.48 seconds\n",
            "-- Epoch 1\n",
            "Norm: 32486.64, NNZs: 577, Bias: -105.000000, T: 33600, Avg. loss: 61757.694315\n",
            "Total training time: 0.05 seconds.\n",
            "-- Epoch 2\n",
            "Norm: 40534.54, NNZs: 584, Bias: -200.000000, T: 67200, Avg. loss: 56512.068690\n",
            "Total training time: 0.11 seconds.\n",
            "-- Epoch 3\n",
            "Norm: 44742.80, NNZs: 588, Bias: -287.000000, T: 100800, Avg. loss: 56831.399375\n",
            "Total training time: 0.16 seconds.\n",
            "-- Epoch 4\n",
            "Norm: 48306.09, NNZs: 589, Bias: -365.000000, T: 134400, Avg. loss: 57471.921488\n",
            "Total training time: 0.21 seconds.\n",
            "-- Epoch 5\n",
            "Norm: 51911.01, NNZs: 594, Bias: -437.000000, T: 168000, Avg. loss: 53519.729940\n",
            "Total training time: 0.26 seconds.\n",
            "-- Epoch 6\n",
            "Norm: 54449.70, NNZs: 594, Bias: -512.000000, T: 201600, Avg. loss: 56500.563304\n",
            "Total training time: 0.32 seconds.\n",
            "-- Epoch 7\n",
            "Norm: 56208.93, NNZs: 594, Bias: -591.000000, T: 235200, Avg. loss: 55719.122857\n",
            "Total training time: 0.37 seconds.\n",
            "-- Epoch 8\n",
            "Norm: 58646.84, NNZs: 595, Bias: -667.000000, T: 268800, Avg. loss: 52715.723690\n",
            "Total training time: 0.43 seconds.\n",
            "-- Epoch 9\n",
            "Norm: 61872.61, NNZs: 600, Bias: -742.000000, T: 302400, Avg. loss: 54451.783214\n",
            "Total training time: 0.48 seconds.\n",
            "-- Epoch 10\n",
            "Norm: 64386.40, NNZs: 600, Bias: -819.000000, T: 336000, Avg. loss: 54228.641726\n",
            "Total training time: 0.53 seconds.\n",
            "-- Epoch 11\n",
            "Norm: 66294.61, NNZs: 600, Bias: -896.000000, T: 369600, Avg. loss: 52856.449167\n",
            "Total training time: 0.59 seconds.\n",
            "-- Epoch 12\n",
            "Norm: 67818.78, NNZs: 600, Bias: -967.000000, T: 403200, Avg. loss: 52751.668839\n",
            "Total training time: 0.64 seconds.\n",
            "-- Epoch 13\n",
            "Norm: 69092.91, NNZs: 600, Bias: -1041.000000, T: 436800, Avg. loss: 51681.258036\n",
            "Total training time: 0.69 seconds.\n",
            "-- Epoch 14\n",
            "Norm: 71238.41, NNZs: 600, Bias: -1116.000000, T: 470400, Avg. loss: 51981.144881\n",
            "Total training time: 0.75 seconds.\n",
            "-- Epoch 15\n",
            "Norm: 72874.40, NNZs: 600, Bias: -1189.000000, T: 504000, Avg. loss: 50819.850149\n",
            "Total training time: 0.80 seconds.\n",
            "-- Epoch 16\n",
            "Norm: 74450.89, NNZs: 600, Bias: -1263.000000, T: 537600, Avg. loss: 53628.265268\n",
            "Total training time: 0.85 seconds.\n",
            "-- Epoch 17\n",
            "Norm: 76487.74, NNZs: 601, Bias: -1337.000000, T: 571200, Avg. loss: 52789.735744\n",
            "Total training time: 0.91 seconds.\n",
            "-- Epoch 18\n",
            "Norm: 77849.43, NNZs: 603, Bias: -1410.000000, T: 604800, Avg. loss: 52466.989940\n",
            "Total training time: 0.96 seconds.\n",
            "-- Epoch 19\n",
            "Norm: 79984.11, NNZs: 603, Bias: -1479.000000, T: 638400, Avg. loss: 53286.368958\n",
            "Total training time: 1.01 seconds.\n",
            "-- Epoch 20\n",
            "Norm: 80396.01, NNZs: 603, Bias: -1550.000000, T: 672000, Avg. loss: 51882.202679\n",
            "Total training time: 1.06 seconds.\n",
            "Convergence after 20 epochs took 1.06 seconds\n",
            "-- Epoch 1\n",
            "Norm: 32589.46, NNZs: 583, Bias: -17.000000, T: 33600, Avg. loss: 62025.632560\n",
            "Total training time: 0.05 seconds.\n",
            "-- Epoch 2\n",
            "Norm: 37511.93, NNZs: 609, Bias: -29.000000, T: 67200, Avg. loss: 58115.097619\n",
            "Total training time: 0.11 seconds.\n",
            "-- Epoch 3\n",
            "Norm: 42262.38, NNZs: 613, Bias: -45.000000, T: 100800, Avg. loss: 57995.263839\n",
            "Total training time: 0.16 seconds.\n",
            "-- Epoch 4\n",
            "Norm: 46423.57, NNZs: 620, Bias: -57.000000, T: 134400, Avg. loss: 58623.844851\n",
            "Total training time: 0.21 seconds.\n",
            "-- Epoch 5\n",
            "Norm: 50025.21, NNZs: 622, Bias: -63.000000, T: 168000, Avg. loss: 53911.482560\n",
            "Total training time: 0.27 seconds.\n",
            "-- Epoch 6\n",
            "Norm: 53211.32, NNZs: 620, Bias: -77.000000, T: 201600, Avg. loss: 51937.196726\n",
            "Total training time: 0.32 seconds.\n",
            "-- Epoch 7\n",
            "Norm: 56199.23, NNZs: 624, Bias: -82.000000, T: 235200, Avg. loss: 54733.387946\n",
            "Total training time: 0.38 seconds.\n",
            "-- Epoch 8\n",
            "Norm: 58992.86, NNZs: 625, Bias: -103.000000, T: 268800, Avg. loss: 52753.839226\n",
            "Total training time: 0.43 seconds.\n",
            "-- Epoch 9\n",
            "Norm: 61704.82, NNZs: 627, Bias: -111.000000, T: 302400, Avg. loss: 55863.080506\n",
            "Total training time: 0.48 seconds.\n",
            "-- Epoch 10\n",
            "Norm: 63877.60, NNZs: 632, Bias: -131.000000, T: 336000, Avg. loss: 54647.428988\n",
            "Total training time: 0.54 seconds.\n",
            "-- Epoch 11\n",
            "Norm: 66299.11, NNZs: 634, Bias: -148.000000, T: 369600, Avg. loss: 54471.431637\n",
            "Total training time: 0.59 seconds.\n",
            "Convergence after 11 epochs took 0.59 seconds\n",
            "-- Epoch 1\n",
            "Norm: 41758.03, NNZs: 625, Bias: -462.000000, T: 33600, Avg. loss: 233095.000774\n",
            "Total training time: 0.06 seconds.\n",
            "-- Epoch 2\n",
            "Norm: 50310.57, NNZs: 631, Bias: -882.000000, T: 67200, Avg. loss: 228599.348750\n",
            "Total training time: 0.12 seconds.\n",
            "-- Epoch 3\n",
            "Norm: 56368.42, NNZs: 641, Bias: -1299.000000, T: 100800, Avg. loss: 227184.443333\n",
            "Total training time: 0.18 seconds.\n",
            "-- Epoch 4\n",
            "Norm: 60403.37, NNZs: 645, Bias: -1688.000000, T: 134400, Avg. loss: 229155.082083\n",
            "Total training time: 0.23 seconds.\n",
            "-- Epoch 5\n",
            "Norm: 63372.61, NNZs: 649, Bias: -2067.000000, T: 168000, Avg. loss: 221451.627738\n",
            "Total training time: 0.29 seconds.\n",
            "-- Epoch 6\n",
            "Norm: 67369.73, NNZs: 650, Bias: -2466.000000, T: 201600, Avg. loss: 225979.830327\n",
            "Total training time: 0.34 seconds.\n",
            "-- Epoch 7\n",
            "Norm: 70718.75, NNZs: 650, Bias: -2852.000000, T: 235200, Avg. loss: 225628.723304\n",
            "Total training time: 0.40 seconds.\n",
            "-- Epoch 8\n",
            "Norm: 71812.83, NNZs: 651, Bias: -3252.000000, T: 268800, Avg. loss: 226431.173661\n",
            "Total training time: 0.46 seconds.\n",
            "-- Epoch 9\n",
            "Norm: 73696.43, NNZs: 653, Bias: -3628.000000, T: 302400, Avg. loss: 223407.070655\n",
            "Total training time: 0.51 seconds.\n",
            "-- Epoch 10\n",
            "Norm: 76871.33, NNZs: 653, Bias: -3996.000000, T: 336000, Avg. loss: 223646.291935\n",
            "Total training time: 0.57 seconds.\n",
            "Convergence after 10 epochs took 0.57 seconds\n",
            "-- Epoch 1\n",
            "Norm: 36290.84, NNZs: 625, Bias: -187.000000, T: 33600, Avg. loss: 159959.056161\n",
            "Total training time: 0.06 seconds.\n",
            "-- Epoch 2\n",
            "Norm: 44920.30, NNZs: 641, Bias: -378.000000, T: 67200, Avg. loss: 154155.718125\n",
            "Total training time: 0.11 seconds.\n",
            "-- Epoch 3\n",
            "Norm: 51342.61, NNZs: 651, Bias: -555.000000, T: 100800, Avg. loss: 150645.519911\n",
            "Total training time: 0.17 seconds.\n",
            "-- Epoch 4\n",
            "Norm: 56524.62, NNZs: 652, Bias: -729.000000, T: 134400, Avg. loss: 146213.910208\n",
            "Total training time: 0.23 seconds.\n",
            "-- Epoch 5\n",
            "Norm: 59759.74, NNZs: 652, Bias: -916.000000, T: 168000, Avg. loss: 150237.405774\n",
            "Total training time: 0.28 seconds.\n",
            "-- Epoch 6\n",
            "Norm: 63784.97, NNZs: 652, Bias: -1087.000000, T: 201600, Avg. loss: 147086.445833\n",
            "Total training time: 0.34 seconds.\n",
            "-- Epoch 7\n",
            "Norm: 65860.29, NNZs: 653, Bias: -1268.000000, T: 235200, Avg. loss: 149149.701250\n",
            "Total training time: 0.40 seconds.\n",
            "-- Epoch 8\n",
            "Norm: 67339.26, NNZs: 656, Bias: -1434.000000, T: 268800, Avg. loss: 150210.671667\n",
            "Total training time: 0.45 seconds.\n",
            "-- Epoch 9\n",
            "Norm: 69460.15, NNZs: 656, Bias: -1616.000000, T: 302400, Avg. loss: 147811.250506\n",
            "Total training time: 0.52 seconds.\n",
            "Convergence after 9 epochs took 0.52 seconds\n"
          ]
        },
        {
          "output_type": "stream",
          "name": "stderr",
          "text": [
            "[Parallel(n_jobs=1)]: Done  10 out of  10 | elapsed:    9.4s finished\n"
          ]
        }
      ]
    },
    {
      "cell_type": "code",
      "source": [
        "print(cm_slp)\n",
        "print(clas_rep_slp)"
      ],
      "metadata": {
        "colab": {
          "base_uri": "https://localhost:8080/"
        },
        "id": "_mzdNhxYuo-S",
        "outputId": "65d2b5da-e1fd-47cc-d9e1-6843040c7090"
      },
      "execution_count": null,
      "outputs": [
        {
          "output_type": "stream",
          "name": "stdout",
          "text": [
            "[[741   1   4   0   0  10  22   0   7   0]\n",
            " [  0 895   8   6   1   3   2   0  34   0]\n",
            " [  4   3 710  28   2   9  18   4  59   1]\n",
            " [  6   2  23 742   2  38   4   5  28   8]\n",
            " [  5   6  33   2 689   2  12   6  28  13]\n",
            " [ 12   5   4  38   3 654  21   1  58   4]\n",
            " [  3   1  12   0   0  18 823   1  12   0]\n",
            " [  4   5  32   1   2   6   0 781  15  14]\n",
            " [  6  11  15   8   2  25  10   5 732   3]\n",
            " [  5   2  37  14  62  30   0  85  82 510]]\n",
            "              precision    recall  f1-score   support\n",
            "\n",
            "           0       0.94      0.94      0.94       785\n",
            "           1       0.96      0.94      0.95       949\n",
            "           2       0.81      0.85      0.83       838\n",
            "           3       0.88      0.86      0.87       858\n",
            "           4       0.90      0.87      0.88       796\n",
            "           5       0.82      0.82      0.82       800\n",
            "           6       0.90      0.95      0.92       870\n",
            "           7       0.88      0.91      0.89       860\n",
            "           8       0.69      0.90      0.78       817\n",
            "           9       0.92      0.62      0.74       827\n",
            "\n",
            "    accuracy                           0.87      8400\n",
            "   macro avg       0.87      0.86      0.86      8400\n",
            "weighted avg       0.87      0.87      0.87      8400\n",
            "\n"
          ]
        }
      ]
    },
    {
      "cell_type": "code",
      "source": [
        "per.intercept_"
      ],
      "metadata": {
        "colab": {
          "base_uri": "https://localhost:8080/"
        },
        "id": "ZG-270iZ6FfK",
        "outputId": "655b6247-df68-414a-f6eb-3c6e262e4884"
      },
      "execution_count": null,
      "outputs": [
        {
          "output_type": "execute_result",
          "data": {
            "text/plain": [
              "array([-1061.,  -213., -1456., -1105.,  -876.,   861., -1550.,  -148.,\n",
              "       -3996., -1616.])"
            ]
          },
          "metadata": {},
          "execution_count": 68
        }
      ]
    },
    {
      "cell_type": "code",
      "source": [
        "from sklearn.neural_network import MLPClassifier"
      ],
      "metadata": {
        "id": "G_yDJ7z2sJ2I"
      },
      "execution_count": null,
      "outputs": []
    },
    {
      "cell_type": "code",
      "source": [
        "mlp = MLPClassifier(hidden_layer_sizes=(16,16,16), verbose=1)\n",
        "mlp.fit(x_train, y_train)\n",
        "preds_mlp = mlp.predict(x_test)"
      ],
      "metadata": {
        "id": "A9KXenjIta7J",
        "colab": {
          "base_uri": "https://localhost:8080/"
        },
        "outputId": "98469234-c94b-4d8f-b6ce-075a03a52aea"
      },
      "execution_count": null,
      "outputs": [
        {
          "output_type": "stream",
          "name": "stdout",
          "text": [
            "Iteration 1, loss = 2.84166010\n",
            "Iteration 2, loss = 1.27654133\n",
            "Iteration 3, loss = 0.92226668\n",
            "Iteration 4, loss = 0.70655774\n",
            "Iteration 5, loss = 0.61102950\n",
            "Iteration 6, loss = 0.56050209\n",
            "Iteration 7, loss = 0.51851176\n",
            "Iteration 8, loss = 0.48998005\n",
            "Iteration 9, loss = 0.46920501\n",
            "Iteration 10, loss = 0.45193836\n",
            "Iteration 11, loss = 0.43666676\n",
            "Iteration 12, loss = 0.42070474\n",
            "Iteration 13, loss = 0.41269348\n",
            "Iteration 14, loss = 0.40284828\n",
            "Iteration 15, loss = 0.40161350\n",
            "Iteration 16, loss = 0.38859650\n",
            "Iteration 17, loss = 0.38330472\n",
            "Iteration 18, loss = 0.37323066\n",
            "Iteration 19, loss = 0.36474867\n",
            "Iteration 20, loss = 0.35917862\n",
            "Iteration 21, loss = 0.35369540\n",
            "Iteration 22, loss = 0.34894909\n",
            "Iteration 23, loss = 0.34284512\n",
            "Iteration 24, loss = 0.33570635\n",
            "Iteration 25, loss = 0.33247927\n",
            "Iteration 26, loss = 0.32558296\n",
            "Iteration 27, loss = 0.31973129\n",
            "Iteration 28, loss = 0.31929299\n",
            "Iteration 29, loss = 0.32087040\n",
            "Iteration 30, loss = 0.31019507\n",
            "Iteration 31, loss = 0.30396803\n",
            "Iteration 32, loss = 0.29530869\n",
            "Iteration 33, loss = 0.28665769\n",
            "Iteration 34, loss = 0.28180045\n",
            "Iteration 35, loss = 0.28028362\n",
            "Iteration 36, loss = 0.27659891\n",
            "Iteration 37, loss = 0.27416544\n",
            "Iteration 38, loss = 0.26566637\n",
            "Iteration 39, loss = 0.25963959\n",
            "Iteration 40, loss = 0.25544198\n",
            "Iteration 41, loss = 0.25576994\n",
            "Iteration 42, loss = 0.25044343\n",
            "Iteration 43, loss = 0.24451917\n",
            "Iteration 44, loss = 0.24048866\n",
            "Iteration 45, loss = 0.23768803\n",
            "Iteration 46, loss = 0.23231675\n",
            "Iteration 47, loss = 0.22912120\n",
            "Iteration 48, loss = 0.22569140\n",
            "Iteration 49, loss = 0.22681892\n",
            "Iteration 50, loss = 0.21714205\n",
            "Iteration 51, loss = 0.21662938\n",
            "Iteration 52, loss = 0.21424050\n",
            "Iteration 53, loss = 0.21081267\n",
            "Iteration 54, loss = 0.21039758\n",
            "Iteration 55, loss = 0.20716360\n",
            "Iteration 56, loss = 0.20984455\n",
            "Iteration 57, loss = 0.20529483\n",
            "Iteration 58, loss = 0.20028109\n",
            "Iteration 59, loss = 0.20324216\n",
            "Iteration 60, loss = 0.19945663\n",
            "Iteration 61, loss = 0.19945920\n",
            "Iteration 62, loss = 0.19656522\n",
            "Iteration 63, loss = 0.19424582\n",
            "Iteration 64, loss = 0.19113837\n",
            "Iteration 65, loss = 0.19630281\n",
            "Iteration 66, loss = 0.19150355\n",
            "Iteration 67, loss = 0.18842125\n",
            "Iteration 68, loss = 0.18691072\n",
            "Iteration 69, loss = 0.18524306\n",
            "Iteration 70, loss = 0.18332140\n",
            "Iteration 71, loss = 0.17961534\n",
            "Iteration 72, loss = 0.18162875\n",
            "Iteration 73, loss = 0.18002494\n",
            "Iteration 74, loss = 0.18130593\n",
            "Iteration 75, loss = 0.17310175\n",
            "Iteration 76, loss = 0.17720923\n",
            "Iteration 77, loss = 0.17802563\n",
            "Iteration 78, loss = 0.17297264\n",
            "Iteration 79, loss = 0.17273095\n",
            "Iteration 80, loss = 0.17603930\n",
            "Iteration 81, loss = 0.17160732\n",
            "Iteration 82, loss = 0.17486163\n",
            "Iteration 83, loss = 0.17056134\n",
            "Iteration 84, loss = 0.16675355\n",
            "Iteration 85, loss = 0.16610054\n",
            "Iteration 86, loss = 0.16880070\n",
            "Iteration 87, loss = 0.16655577\n",
            "Iteration 88, loss = 0.16367099\n",
            "Iteration 89, loss = 0.16418779\n",
            "Iteration 90, loss = 0.16055368\n",
            "Iteration 91, loss = 0.16211318\n",
            "Iteration 92, loss = 0.16319975\n",
            "Iteration 93, loss = 0.16282246\n",
            "Iteration 94, loss = 0.16715116\n",
            "Iteration 95, loss = 0.16559563\n",
            "Iteration 96, loss = 0.16066069\n",
            "Iteration 97, loss = 0.16354628\n",
            "Iteration 98, loss = 0.16183290\n",
            "Iteration 99, loss = 0.15951517\n",
            "Iteration 100, loss = 0.16407918\n",
            "Iteration 101, loss = 0.15917199\n",
            "Iteration 102, loss = 0.15185525\n",
            "Iteration 103, loss = 0.15750222\n",
            "Iteration 104, loss = 0.15301209\n",
            "Iteration 105, loss = 0.15642379\n",
            "Iteration 106, loss = 0.15458173\n",
            "Iteration 107, loss = 0.15261318\n",
            "Iteration 108, loss = 0.15495204\n",
            "Iteration 109, loss = 0.15018587\n",
            "Iteration 110, loss = 0.14821818\n",
            "Iteration 111, loss = 0.15071081\n",
            "Iteration 112, loss = 0.15064513\n",
            "Iteration 113, loss = 0.15380595\n",
            "Iteration 114, loss = 0.15236498\n",
            "Iteration 115, loss = 0.14931565\n",
            "Iteration 116, loss = 0.14863381\n",
            "Iteration 117, loss = 0.14741964\n",
            "Iteration 118, loss = 0.14660287\n",
            "Iteration 119, loss = 0.14905079\n",
            "Iteration 120, loss = 0.14791376\n",
            "Iteration 121, loss = 0.14461722\n",
            "Iteration 122, loss = 0.14648102\n",
            "Iteration 123, loss = 0.14655759\n",
            "Iteration 124, loss = 0.14754241\n",
            "Iteration 125, loss = 0.14658319\n",
            "Iteration 126, loss = 0.15248461\n",
            "Iteration 127, loss = 0.14767319\n",
            "Iteration 128, loss = 0.14399320\n",
            "Iteration 129, loss = 0.14333763\n",
            "Iteration 130, loss = 0.14423347\n",
            "Iteration 131, loss = 0.14576452\n",
            "Iteration 132, loss = 0.14214342\n",
            "Iteration 133, loss = 0.14368669\n",
            "Iteration 134, loss = 0.14215844\n",
            "Iteration 135, loss = 0.14053483\n",
            "Iteration 136, loss = 0.13961039\n",
            "Iteration 137, loss = 0.14280734\n",
            "Iteration 138, loss = 0.14231819\n",
            "Iteration 139, loss = 0.14312094\n",
            "Iteration 140, loss = 0.14023174\n",
            "Iteration 141, loss = 0.14176987\n",
            "Iteration 142, loss = 0.13798263\n",
            "Iteration 143, loss = 0.13577435\n",
            "Iteration 144, loss = 0.13708763\n",
            "Iteration 145, loss = 0.13942586\n",
            "Iteration 146, loss = 0.13438807\n",
            "Iteration 147, loss = 0.13617033\n",
            "Iteration 148, loss = 0.14644292\n",
            "Iteration 149, loss = 0.14110884\n",
            "Iteration 150, loss = 0.14080024\n",
            "Iteration 151, loss = 0.13526963\n",
            "Iteration 152, loss = 0.13836943\n",
            "Iteration 153, loss = 0.13446199\n",
            "Iteration 154, loss = 0.13588709\n",
            "Iteration 155, loss = 0.13207874\n",
            "Iteration 156, loss = 0.12973161\n",
            "Iteration 157, loss = 0.13453778\n",
            "Iteration 158, loss = 0.13406108\n",
            "Iteration 159, loss = 0.13412012\n",
            "Iteration 160, loss = 0.13569333\n",
            "Iteration 161, loss = 0.13419700\n",
            "Iteration 162, loss = 0.13530641\n",
            "Iteration 163, loss = 0.13156897\n",
            "Iteration 164, loss = 0.13124911\n",
            "Iteration 165, loss = 0.13542052\n",
            "Iteration 166, loss = 0.13351686\n",
            "Iteration 167, loss = 0.13005121\n",
            "Training loss did not improve more than tol=0.000100 for 10 consecutive epochs. Stopping.\n"
          ]
        }
      ]
    },
    {
      "cell_type": "code",
      "source": [
        "cm_mlp = confusion_matrix(y_test, preds_mlp)\n",
        "clasrep_mlp = classification_report(y_test, preds_mlp)\n",
        "print(cm_mlp)\n",
        "print(clasrep_mlp)"
      ],
      "metadata": {
        "colab": {
          "base_uri": "https://localhost:8080/"
        },
        "id": "htE5VX4Dt2ZR",
        "outputId": "9ecf713e-5429-4f87-e1b1-248da25481ad"
      },
      "execution_count": null,
      "outputs": [
        {
          "output_type": "stream",
          "name": "stdout",
          "text": [
            "[[755   0   6   1   0   1  12   1   8   1]\n",
            " [  0 910  12   2   2   6   3   1  12   1]\n",
            " [  6   6 757  15   7   1  18   4  21   3]\n",
            " [  1   3  38 711   0  43   0  15  18  29]\n",
            " [  2   1   1   0 743   3  10   6   2  28]\n",
            " [  9   4  12  23   3 711  12   0  18   8]\n",
            " [  8   0   4   0   6   8 830   1  13   0]\n",
            " [  5   7  13   3   7   1   0 793   6  25]\n",
            " [ 13  13   9  10   2  13  21  10 716  10]\n",
            " [  4   2   3   2  24  13   0  33  15 731]]\n",
            "              precision    recall  f1-score   support\n",
            "\n",
            "           0       0.94      0.96      0.95       785\n",
            "           1       0.96      0.96      0.96       949\n",
            "           2       0.89      0.90      0.89       838\n",
            "           3       0.93      0.83      0.88       858\n",
            "           4       0.94      0.93      0.93       796\n",
            "           5       0.89      0.89      0.89       800\n",
            "           6       0.92      0.95      0.93       870\n",
            "           7       0.92      0.92      0.92       860\n",
            "           8       0.86      0.88      0.87       817\n",
            "           9       0.87      0.88      0.88       827\n",
            "\n",
            "    accuracy                           0.91      8400\n",
            "   macro avg       0.91      0.91      0.91      8400\n",
            "weighted avg       0.91      0.91      0.91      8400\n",
            "\n"
          ]
        }
      ]
    },
    {
      "cell_type": "markdown",
      "source": [
        "# Implementation Using Keras"
      ],
      "metadata": {
        "id": "hLpQ8dZVLuFc"
      }
    },
    {
      "cell_type": "markdown",
      "source": [
        "Import all requisite libraries in keras to implement the model in Keras"
      ],
      "metadata": {
        "id": "eaNBCMlxNMqi"
      }
    },
    {
      "cell_type": "code",
      "source": [
        "from keras.models import Sequential\n",
        "from keras.layers import Dense, Dropout\n",
        "import tensorflow as tf\n",
        "from tensorflow.keras.optimizers import Adam, SGD\n",
        "from keras.losses import CategoricalCrossentropy\n",
        "from tensorflow.keras.utils import to_categorical"
      ],
      "metadata": {
        "id": "3IW32FNPMBt_"
      },
      "execution_count": null,
      "outputs": []
    },
    {
      "cell_type": "markdown",
      "source": [
        "Convert Y into one hot encode"
      ],
      "metadata": {
        "id": "RSvrqTZAO8mC"
      }
    },
    {
      "cell_type": "code",
      "source": [
        "y_train_tc = to_categorical(y_train)\n",
        "y_test_tc = to_categorical(y_test)"
      ],
      "metadata": {
        "id": "pqRL1ggZO74Y"
      },
      "execution_count": null,
      "outputs": []
    },
    {
      "cell_type": "code",
      "source": [
        "print(y_train_tc.shape)\n",
        "print(y_test_tc.shape)"
      ],
      "metadata": {
        "colab": {
          "base_uri": "https://localhost:8080/"
        },
        "id": "j0Zye0eAPLu8",
        "outputId": "09efa131-4e62-495c-d71c-84bce98c7b1a"
      },
      "execution_count": null,
      "outputs": [
        {
          "output_type": "stream",
          "name": "stdout",
          "text": [
            "(33600, 10)\n",
            "(8400, 10)\n"
          ]
        }
      ]
    },
    {
      "cell_type": "code",
      "source": [
        "y_train_tc"
      ],
      "metadata": {
        "colab": {
          "base_uri": "https://localhost:8080/"
        },
        "id": "gBW8Du1XO0MW",
        "outputId": "a1149be1-43f4-4091-e055-25c423aa33b0"
      },
      "execution_count": null,
      "outputs": [
        {
          "output_type": "execute_result",
          "data": {
            "text/plain": [
              "array([[0., 0., 1., ..., 0., 0., 0.],\n",
              "       [0., 0., 0., ..., 0., 0., 1.],\n",
              "       [0., 0., 1., ..., 0., 0., 0.],\n",
              "       ...,\n",
              "       [0., 0., 0., ..., 0., 0., 1.],\n",
              "       [0., 0., 0., ..., 0., 0., 0.],\n",
              "       [0., 0., 0., ..., 1., 0., 0.]], dtype=float32)"
            ]
          },
          "metadata": {},
          "execution_count": 75
        }
      ]
    },
    {
      "cell_type": "markdown",
      "source": [
        "Initialize the model and set up layers"
      ],
      "metadata": {
        "id": "WbFlfJIFPu2e"
      }
    },
    {
      "cell_type": "code",
      "source": [
        "model = Sequential()\n",
        "model.add(Dense(256, activation='relu', input_dim=(784)))\n",
        "model.add(Dropout(0.2))\n",
        "model.add(Dense(256, activation='relu'))\n",
        "model.add(Dropout(0.2))\n",
        "model.add(Dense(256, activation='relu'))\n",
        "model.add(Dropout(0.2))\n",
        "model.add(Dense(10, activation='softmax'))\n",
        "model.summary()"
      ],
      "metadata": {
        "colab": {
          "base_uri": "https://localhost:8080/"
        },
        "id": "rV-pahXbP1NG",
        "outputId": "f6163600-a0b4-4242-e77b-117f5b9d9be4"
      },
      "execution_count": null,
      "outputs": [
        {
          "output_type": "stream",
          "name": "stdout",
          "text": [
            "Model: \"sequential_5\"\n",
            "_________________________________________________________________\n",
            " Layer (type)                Output Shape              Param #   \n",
            "=================================================================\n",
            " dense_20 (Dense)            (None, 256)               200960    \n",
            "                                                                 \n",
            " dropout_3 (Dropout)         (None, 256)               0         \n",
            "                                                                 \n",
            " dense_21 (Dense)            (None, 256)               65792     \n",
            "                                                                 \n",
            " dropout_4 (Dropout)         (None, 256)               0         \n",
            "                                                                 \n",
            " dense_22 (Dense)            (None, 256)               65792     \n",
            "                                                                 \n",
            " dropout_5 (Dropout)         (None, 256)               0         \n",
            "                                                                 \n",
            " dense_23 (Dense)            (None, 10)                2570      \n",
            "                                                                 \n",
            "=================================================================\n",
            "Total params: 335,114\n",
            "Trainable params: 335,114\n",
            "Non-trainable params: 0\n",
            "_________________________________________________________________\n"
          ]
        }
      ]
    },
    {
      "cell_type": "code",
      "source": [
        "model.compile(optimizer='Adam', loss='categorical_crossentropy', metrics=['accuracy'])"
      ],
      "metadata": {
        "id": "qiMsXIT6Q5w_"
      },
      "execution_count": null,
      "outputs": []
    },
    {
      "cell_type": "code",
      "source": [
        "hist = model.fit(x_train, y_train_tc, validation_data=(x_test, y_test_tc),epochs=100, verbose=2)"
      ],
      "metadata": {
        "colab": {
          "base_uri": "https://localhost:8080/"
        },
        "id": "Gr4na0RBTo_c",
        "outputId": "8d693d1f-0291-4d86-84c8-a6e844b66399"
      },
      "execution_count": null,
      "outputs": [
        {
          "output_type": "stream",
          "name": "stdout",
          "text": [
            "Epoch 1/100\n",
            "1050/1050 - 7s - loss: 2.2780 - accuracy: 0.7809 - val_loss: 0.3164 - val_accuracy: 0.9113 - 7s/epoch - 7ms/step\n",
            "Epoch 2/100\n",
            "1050/1050 - 6s - loss: 0.4168 - accuracy: 0.8870 - val_loss: 0.2415 - val_accuracy: 0.9367 - 6s/epoch - 6ms/step\n",
            "Epoch 3/100\n",
            "1050/1050 - 7s - loss: 0.3266 - accuracy: 0.9104 - val_loss: 0.2048 - val_accuracy: 0.9437 - 7s/epoch - 6ms/step\n",
            "Epoch 4/100\n",
            "1050/1050 - 6s - loss: 0.2830 - accuracy: 0.9222 - val_loss: 0.2054 - val_accuracy: 0.9490 - 6s/epoch - 6ms/step\n",
            "Epoch 5/100\n",
            "1050/1050 - 6s - loss: 0.2685 - accuracy: 0.9280 - val_loss: 0.2073 - val_accuracy: 0.9520 - 6s/epoch - 5ms/step\n",
            "Epoch 6/100\n",
            "1050/1050 - 6s - loss: 0.2653 - accuracy: 0.9310 - val_loss: 0.1900 - val_accuracy: 0.9523 - 6s/epoch - 5ms/step\n",
            "Epoch 7/100\n",
            "1050/1050 - 6s - loss: 0.2507 - accuracy: 0.9339 - val_loss: 0.2170 - val_accuracy: 0.9457 - 6s/epoch - 6ms/step\n",
            "Epoch 8/100\n",
            "1050/1050 - 6s - loss: 0.2416 - accuracy: 0.9377 - val_loss: 0.1872 - val_accuracy: 0.9593 - 6s/epoch - 6ms/step\n",
            "Epoch 9/100\n",
            "1050/1050 - 6s - loss: 0.2254 - accuracy: 0.9440 - val_loss: 0.1848 - val_accuracy: 0.9586 - 6s/epoch - 5ms/step\n",
            "Epoch 10/100\n",
            "1050/1050 - 6s - loss: 0.2187 - accuracy: 0.9460 - val_loss: 0.1826 - val_accuracy: 0.9620 - 6s/epoch - 5ms/step\n",
            "Epoch 11/100\n",
            "1050/1050 - 6s - loss: 0.2204 - accuracy: 0.9457 - val_loss: 0.1760 - val_accuracy: 0.9611 - 6s/epoch - 5ms/step\n",
            "Epoch 12/100\n",
            "1050/1050 - 6s - loss: 0.2115 - accuracy: 0.9490 - val_loss: 0.1733 - val_accuracy: 0.9642 - 6s/epoch - 6ms/step\n",
            "Epoch 13/100\n",
            "1050/1050 - 6s - loss: 0.1932 - accuracy: 0.9532 - val_loss: 0.2142 - val_accuracy: 0.9614 - 6s/epoch - 6ms/step\n",
            "Epoch 14/100\n",
            "1050/1050 - 6s - loss: 0.1937 - accuracy: 0.9524 - val_loss: 0.1877 - val_accuracy: 0.9627 - 6s/epoch - 5ms/step\n",
            "Epoch 15/100\n",
            "1050/1050 - 6s - loss: 0.1918 - accuracy: 0.9532 - val_loss: 0.1785 - val_accuracy: 0.9606 - 6s/epoch - 5ms/step\n",
            "Epoch 16/100\n",
            "1050/1050 - 6s - loss: 0.1749 - accuracy: 0.9577 - val_loss: 0.2046 - val_accuracy: 0.9632 - 6s/epoch - 5ms/step\n",
            "Epoch 17/100\n",
            "1050/1050 - 6s - loss: 0.1758 - accuracy: 0.9580 - val_loss: 0.2221 - val_accuracy: 0.9574 - 6s/epoch - 5ms/step\n",
            "Epoch 18/100\n",
            "1050/1050 - 6s - loss: 0.1844 - accuracy: 0.9586 - val_loss: 0.2414 - val_accuracy: 0.9645 - 6s/epoch - 5ms/step\n",
            "Epoch 19/100\n",
            "1050/1050 - 6s - loss: 0.1656 - accuracy: 0.9602 - val_loss: 0.2119 - val_accuracy: 0.9675 - 6s/epoch - 5ms/step\n",
            "Epoch 20/100\n",
            "1050/1050 - 6s - loss: 0.1611 - accuracy: 0.9610 - val_loss: 0.2161 - val_accuracy: 0.9669 - 6s/epoch - 6ms/step\n",
            "Epoch 21/100\n",
            "1050/1050 - 6s - loss: 0.1621 - accuracy: 0.9621 - val_loss: 0.2230 - val_accuracy: 0.9633 - 6s/epoch - 5ms/step\n",
            "Epoch 22/100\n",
            "1050/1050 - 6s - loss: 0.1664 - accuracy: 0.9623 - val_loss: 0.2015 - val_accuracy: 0.9592 - 6s/epoch - 5ms/step\n",
            "Epoch 23/100\n",
            "1050/1050 - 6s - loss: 0.1634 - accuracy: 0.9625 - val_loss: 0.2492 - val_accuracy: 0.9656 - 6s/epoch - 5ms/step\n",
            "Epoch 24/100\n",
            "1050/1050 - 6s - loss: 0.1573 - accuracy: 0.9645 - val_loss: 0.2277 - val_accuracy: 0.9673 - 6s/epoch - 6ms/step\n",
            "Epoch 25/100\n",
            "1050/1050 - 6s - loss: 0.1662 - accuracy: 0.9628 - val_loss: 0.2399 - val_accuracy: 0.9658 - 6s/epoch - 5ms/step\n",
            "Epoch 26/100\n",
            "1050/1050 - 6s - loss: 0.1721 - accuracy: 0.9619 - val_loss: 0.2191 - val_accuracy: 0.9644 - 6s/epoch - 5ms/step\n",
            "Epoch 27/100\n",
            "1050/1050 - 6s - loss: 0.1565 - accuracy: 0.9635 - val_loss: 0.2343 - val_accuracy: 0.9686 - 6s/epoch - 5ms/step\n",
            "Epoch 28/100\n",
            "1050/1050 - 6s - loss: 0.1621 - accuracy: 0.9646 - val_loss: 0.2260 - val_accuracy: 0.9667 - 6s/epoch - 5ms/step\n",
            "Epoch 29/100\n",
            "1050/1050 - 6s - loss: 0.1653 - accuracy: 0.9667 - val_loss: 0.3069 - val_accuracy: 0.9643 - 6s/epoch - 6ms/step\n",
            "Epoch 30/100\n",
            "1050/1050 - 6s - loss: 0.1597 - accuracy: 0.9645 - val_loss: 0.2422 - val_accuracy: 0.9660 - 6s/epoch - 5ms/step\n",
            "Epoch 31/100\n",
            "1050/1050 - 6s - loss: 0.1413 - accuracy: 0.9672 - val_loss: 0.2292 - val_accuracy: 0.9679 - 6s/epoch - 5ms/step\n",
            "Epoch 32/100\n",
            "1050/1050 - 6s - loss: 0.1407 - accuracy: 0.9692 - val_loss: 0.2657 - val_accuracy: 0.9651 - 6s/epoch - 5ms/step\n",
            "Epoch 33/100\n",
            "1050/1050 - 6s - loss: 0.1675 - accuracy: 0.9624 - val_loss: 0.1878 - val_accuracy: 0.9658 - 6s/epoch - 5ms/step\n",
            "Epoch 34/100\n",
            "1050/1050 - 6s - loss: 0.1410 - accuracy: 0.9679 - val_loss: 0.2752 - val_accuracy: 0.9696 - 6s/epoch - 6ms/step\n",
            "Epoch 35/100\n",
            "1050/1050 - 5s - loss: 0.1433 - accuracy: 0.9689 - val_loss: 0.2366 - val_accuracy: 0.9717 - 5s/epoch - 5ms/step\n",
            "Epoch 36/100\n",
            "1050/1050 - 6s - loss: 0.1571 - accuracy: 0.9682 - val_loss: 0.2821 - val_accuracy: 0.9696 - 6s/epoch - 5ms/step\n",
            "Epoch 37/100\n",
            "1050/1050 - 6s - loss: 0.1651 - accuracy: 0.9665 - val_loss: 0.2731 - val_accuracy: 0.9710 - 6s/epoch - 6ms/step\n",
            "Epoch 38/100\n",
            "1050/1050 - 6s - loss: 0.1505 - accuracy: 0.9688 - val_loss: 0.2187 - val_accuracy: 0.9680 - 6s/epoch - 6ms/step\n",
            "Epoch 39/100\n",
            "1050/1050 - 6s - loss: 0.1430 - accuracy: 0.9693 - val_loss: 0.2665 - val_accuracy: 0.9701 - 6s/epoch - 6ms/step\n",
            "Epoch 40/100\n",
            "1050/1050 - 6s - loss: 0.1521 - accuracy: 0.9684 - val_loss: 0.3236 - val_accuracy: 0.9676 - 6s/epoch - 5ms/step\n",
            "Epoch 41/100\n",
            "1050/1050 - 6s - loss: 0.1381 - accuracy: 0.9706 - val_loss: 0.3337 - val_accuracy: 0.9715 - 6s/epoch - 5ms/step\n",
            "Epoch 42/100\n",
            "1050/1050 - 6s - loss: 0.1436 - accuracy: 0.9708 - val_loss: 0.2814 - val_accuracy: 0.9680 - 6s/epoch - 6ms/step\n",
            "Epoch 43/100\n",
            "1050/1050 - 6s - loss: 0.1587 - accuracy: 0.9669 - val_loss: 0.3727 - val_accuracy: 0.9679 - 6s/epoch - 5ms/step\n",
            "Epoch 44/100\n",
            "1050/1050 - 5s - loss: 0.1393 - accuracy: 0.9705 - val_loss: 0.3294 - val_accuracy: 0.9645 - 5s/epoch - 5ms/step\n",
            "Epoch 45/100\n",
            "1050/1050 - 6s - loss: 0.1523 - accuracy: 0.9699 - val_loss: 0.3335 - val_accuracy: 0.9699 - 6s/epoch - 5ms/step\n",
            "Epoch 46/100\n",
            "1050/1050 - 6s - loss: 0.1620 - accuracy: 0.9681 - val_loss: 0.3578 - val_accuracy: 0.9699 - 6s/epoch - 5ms/step\n",
            "Epoch 47/100\n",
            "1050/1050 - 5s - loss: 0.1474 - accuracy: 0.9706 - val_loss: 0.3535 - val_accuracy: 0.9706 - 5s/epoch - 5ms/step\n",
            "Epoch 48/100\n",
            "1050/1050 - 6s - loss: 0.1457 - accuracy: 0.9702 - val_loss: 0.2817 - val_accuracy: 0.9673 - 6s/epoch - 5ms/step\n",
            "Epoch 49/100\n",
            "1050/1050 - 6s - loss: 0.1452 - accuracy: 0.9700 - val_loss: 0.2848 - val_accuracy: 0.9670 - 6s/epoch - 5ms/step\n",
            "Epoch 50/100\n",
            "1050/1050 - 6s - loss: 0.1535 - accuracy: 0.9701 - val_loss: 0.3077 - val_accuracy: 0.9662 - 6s/epoch - 5ms/step\n",
            "Epoch 51/100\n",
            "1050/1050 - 6s - loss: 0.1454 - accuracy: 0.9684 - val_loss: 0.4687 - val_accuracy: 0.9637 - 6s/epoch - 5ms/step\n",
            "Epoch 52/100\n",
            "1050/1050 - 6s - loss: 0.1339 - accuracy: 0.9729 - val_loss: 0.4295 - val_accuracy: 0.9681 - 6s/epoch - 5ms/step\n",
            "Epoch 53/100\n",
            "1050/1050 - 6s - loss: 0.1251 - accuracy: 0.9730 - val_loss: 0.4725 - val_accuracy: 0.9707 - 6s/epoch - 5ms/step\n",
            "Epoch 54/100\n",
            "1050/1050 - 6s - loss: 0.1433 - accuracy: 0.9730 - val_loss: 0.3565 - val_accuracy: 0.9689 - 6s/epoch - 5ms/step\n",
            "Epoch 55/100\n",
            "1050/1050 - 6s - loss: 0.1492 - accuracy: 0.9706 - val_loss: 0.3949 - val_accuracy: 0.9688 - 6s/epoch - 6ms/step\n",
            "Epoch 56/100\n",
            "1050/1050 - 6s - loss: 0.1479 - accuracy: 0.9714 - val_loss: 0.4083 - val_accuracy: 0.9670 - 6s/epoch - 6ms/step\n",
            "Epoch 57/100\n",
            "1050/1050 - 6s - loss: 0.1411 - accuracy: 0.9720 - val_loss: 0.4098 - val_accuracy: 0.9679 - 6s/epoch - 6ms/step\n",
            "Epoch 58/100\n",
            "1050/1050 - 6s - loss: 0.1287 - accuracy: 0.9723 - val_loss: 0.3439 - val_accuracy: 0.9683 - 6s/epoch - 6ms/step\n",
            "Epoch 59/100\n",
            "1050/1050 - 6s - loss: 0.1385 - accuracy: 0.9735 - val_loss: 0.3654 - val_accuracy: 0.9711 - 6s/epoch - 6ms/step\n",
            "Epoch 60/100\n",
            "1050/1050 - 6s - loss: 0.1183 - accuracy: 0.9751 - val_loss: 0.3846 - val_accuracy: 0.9723 - 6s/epoch - 6ms/step\n",
            "Epoch 61/100\n",
            "1050/1050 - 6s - loss: 0.1583 - accuracy: 0.9708 - val_loss: 0.3952 - val_accuracy: 0.9661 - 6s/epoch - 5ms/step\n",
            "Epoch 62/100\n",
            "1050/1050 - 6s - loss: 0.1361 - accuracy: 0.9716 - val_loss: 0.4010 - val_accuracy: 0.9681 - 6s/epoch - 5ms/step\n",
            "Epoch 63/100\n",
            "1050/1050 - 6s - loss: 0.1296 - accuracy: 0.9732 - val_loss: 0.6116 - val_accuracy: 0.9686 - 6s/epoch - 5ms/step\n",
            "Epoch 64/100\n",
            "1050/1050 - 6s - loss: 0.1474 - accuracy: 0.9709 - val_loss: 0.3849 - val_accuracy: 0.9714 - 6s/epoch - 6ms/step\n",
            "Epoch 65/100\n",
            "1050/1050 - 6s - loss: 0.1414 - accuracy: 0.9720 - val_loss: 0.5049 - val_accuracy: 0.9701 - 6s/epoch - 6ms/step\n",
            "Epoch 66/100\n",
            "1050/1050 - 6s - loss: 0.1305 - accuracy: 0.9749 - val_loss: 0.4420 - val_accuracy: 0.9704 - 6s/epoch - 6ms/step\n",
            "Epoch 67/100\n",
            "1050/1050 - 6s - loss: 0.1363 - accuracy: 0.9740 - val_loss: 0.3754 - val_accuracy: 0.9712 - 6s/epoch - 6ms/step\n",
            "Epoch 68/100\n",
            "1050/1050 - 6s - loss: 0.1454 - accuracy: 0.9725 - val_loss: 0.4298 - val_accuracy: 0.9656 - 6s/epoch - 5ms/step\n",
            "Epoch 69/100\n",
            "1050/1050 - 6s - loss: 0.1310 - accuracy: 0.9750 - val_loss: 0.3256 - val_accuracy: 0.9696 - 6s/epoch - 5ms/step\n",
            "Epoch 70/100\n",
            "1050/1050 - 6s - loss: 0.1386 - accuracy: 0.9726 - val_loss: 0.4497 - val_accuracy: 0.9680 - 6s/epoch - 5ms/step\n",
            "Epoch 71/100\n",
            "1050/1050 - 6s - loss: 0.1416 - accuracy: 0.9729 - val_loss: 0.4136 - val_accuracy: 0.9680 - 6s/epoch - 6ms/step\n",
            "Epoch 72/100\n",
            "1050/1050 - 6s - loss: 0.1761 - accuracy: 0.9698 - val_loss: 0.4565 - val_accuracy: 0.9652 - 6s/epoch - 6ms/step\n",
            "Epoch 73/100\n",
            "1050/1050 - 6s - loss: 0.1434 - accuracy: 0.9703 - val_loss: 0.5170 - val_accuracy: 0.9714 - 6s/epoch - 6ms/step\n",
            "Epoch 74/100\n",
            "1050/1050 - 6s - loss: 0.1632 - accuracy: 0.9718 - val_loss: 0.4564 - val_accuracy: 0.9688 - 6s/epoch - 5ms/step\n",
            "Epoch 75/100\n",
            "1050/1050 - 6s - loss: 0.1323 - accuracy: 0.9740 - val_loss: 0.5985 - val_accuracy: 0.9679 - 6s/epoch - 5ms/step\n",
            "Epoch 76/100\n",
            "1050/1050 - 6s - loss: 0.1361 - accuracy: 0.9752 - val_loss: 0.4654 - val_accuracy: 0.9693 - 6s/epoch - 5ms/step\n",
            "Epoch 77/100\n",
            "1050/1050 - 6s - loss: 0.1666 - accuracy: 0.9717 - val_loss: 0.5124 - val_accuracy: 0.9689 - 6s/epoch - 5ms/step\n",
            "Epoch 78/100\n",
            "1050/1050 - 6s - loss: 0.1319 - accuracy: 0.9767 - val_loss: 0.6630 - val_accuracy: 0.9699 - 6s/epoch - 5ms/step\n",
            "Epoch 79/100\n",
            "1050/1050 - 6s - loss: 0.1187 - accuracy: 0.9737 - val_loss: 0.5218 - val_accuracy: 0.9681 - 6s/epoch - 5ms/step\n",
            "Epoch 80/100\n",
            "1050/1050 - 6s - loss: 0.1406 - accuracy: 0.9712 - val_loss: 0.4831 - val_accuracy: 0.9714 - 6s/epoch - 6ms/step\n",
            "Epoch 81/100\n",
            "1050/1050 - 6s - loss: 0.1392 - accuracy: 0.9746 - val_loss: 0.6212 - val_accuracy: 0.9676 - 6s/epoch - 6ms/step\n",
            "Epoch 82/100\n",
            "1050/1050 - 6s - loss: 0.1427 - accuracy: 0.9749 - val_loss: 0.4779 - val_accuracy: 0.9652 - 6s/epoch - 5ms/step\n",
            "Epoch 83/100\n",
            "1050/1050 - 6s - loss: 0.1507 - accuracy: 0.9740 - val_loss: 0.4485 - val_accuracy: 0.9696 - 6s/epoch - 6ms/step\n",
            "Epoch 84/100\n",
            "1050/1050 - 6s - loss: 0.1300 - accuracy: 0.9760 - val_loss: 0.5392 - val_accuracy: 0.9705 - 6s/epoch - 5ms/step\n",
            "Epoch 85/100\n",
            "1050/1050 - 5s - loss: 0.1447 - accuracy: 0.9736 - val_loss: 0.5900 - val_accuracy: 0.9698 - 5s/epoch - 5ms/step\n",
            "Epoch 86/100\n",
            "1050/1050 - 6s - loss: 0.1317 - accuracy: 0.9757 - val_loss: 0.7369 - val_accuracy: 0.9679 - 6s/epoch - 5ms/step\n",
            "Epoch 87/100\n",
            "1050/1050 - 6s - loss: 0.1487 - accuracy: 0.9739 - val_loss: 0.4531 - val_accuracy: 0.9655 - 6s/epoch - 5ms/step\n",
            "Epoch 88/100\n",
            "1050/1050 - 6s - loss: 0.1615 - accuracy: 0.9712 - val_loss: 0.5034 - val_accuracy: 0.9710 - 6s/epoch - 5ms/step\n",
            "Epoch 89/100\n",
            "1050/1050 - 6s - loss: 0.1548 - accuracy: 0.9726 - val_loss: 0.4069 - val_accuracy: 0.9694 - 6s/epoch - 5ms/step\n",
            "Epoch 90/100\n",
            "1050/1050 - 6s - loss: 0.1509 - accuracy: 0.9732 - val_loss: 0.3471 - val_accuracy: 0.9682 - 6s/epoch - 5ms/step\n",
            "Epoch 91/100\n",
            "1050/1050 - 6s - loss: 0.1323 - accuracy: 0.9747 - val_loss: 0.6235 - val_accuracy: 0.9710 - 6s/epoch - 5ms/step\n",
            "Epoch 92/100\n",
            "1050/1050 - 5s - loss: 0.1542 - accuracy: 0.9743 - val_loss: 0.6408 - val_accuracy: 0.9686 - 5s/epoch - 5ms/step\n",
            "Epoch 93/100\n",
            "1050/1050 - 6s - loss: 0.1436 - accuracy: 0.9736 - val_loss: 0.6732 - val_accuracy: 0.9702 - 6s/epoch - 5ms/step\n",
            "Epoch 94/100\n",
            "1050/1050 - 6s - loss: 0.1343 - accuracy: 0.9749 - val_loss: 0.6795 - val_accuracy: 0.9690 - 6s/epoch - 5ms/step\n",
            "Epoch 95/100\n",
            "1050/1050 - 5s - loss: 0.1607 - accuracy: 0.9736 - val_loss: 0.5030 - val_accuracy: 0.9681 - 5s/epoch - 5ms/step\n",
            "Epoch 96/100\n",
            "1050/1050 - 6s - loss: 0.1240 - accuracy: 0.9765 - val_loss: 0.6526 - val_accuracy: 0.9687 - 6s/epoch - 5ms/step\n",
            "Epoch 97/100\n",
            "1050/1050 - 6s - loss: 0.1274 - accuracy: 0.9752 - val_loss: 0.6608 - val_accuracy: 0.9700 - 6s/epoch - 6ms/step\n",
            "Epoch 98/100\n",
            "1050/1050 - 6s - loss: 0.1439 - accuracy: 0.9759 - val_loss: 0.5607 - val_accuracy: 0.9677 - 6s/epoch - 6ms/step\n",
            "Epoch 99/100\n",
            "1050/1050 - 6s - loss: 0.1352 - accuracy: 0.9760 - val_loss: 0.7501 - val_accuracy: 0.9695 - 6s/epoch - 6ms/step\n",
            "Epoch 100/100\n",
            "1050/1050 - 6s - loss: 0.1517 - accuracy: 0.9749 - val_loss: 0.4583 - val_accuracy: 0.9696 - 6s/epoch - 5ms/step\n"
          ]
        }
      ]
    },
    {
      "cell_type": "code",
      "source": [
        "#  \"Accuracy\"\n",
        "plt.plot(hist.history['accuracy'])\n",
        "plt.plot(hist.history['val_accuracy'])\n",
        "plt.title('model accuracy')\n",
        "plt.ylabel('accuracy')\n",
        "plt.xlabel('epoch')\n",
        "plt.legend(['train', 'validation'], loc='upper left')\n",
        "plt.show()\n",
        "# \"Loss\"\n",
        "plt.plot(hist.history['loss'])\n",
        "plt.plot(hist.history['val_loss'])\n",
        "plt.title('model loss')\n",
        "plt.ylabel('loss')\n",
        "plt.xlabel('epoch')\n",
        "plt.legend(['train', 'validation'], loc='upper left')\n",
        "plt.show()"
      ],
      "metadata": {
        "colab": {
          "base_uri": "https://localhost:8080/",
          "height": 573
        },
        "id": "2Wgcl-0qWa6p",
        "outputId": "75e4ef9e-ae6d-41bd-dcb8-2cf6eece6f2e"
      },
      "execution_count": null,
      "outputs": [
        {
          "output_type": "display_data",
          "data": {
            "image/png": "[encoded data removed]",
            "text/plain": [
              "<Figure size 432x288 with 1 Axes>"
            ]
          },
          "metadata": {
            "needs_background": "light"
          }
        },
        {
          "output_type": "display_data",
          "data": {
            "image/png": "[encoded data removed]",
            "text/plain": [
              "<Figure size 432x288 with 1 Axes>"
            ]
          },
          "metadata": {
            "needs_background": "light"
          }
        }
      ]
    },
    {
      "cell_type": "code",
      "source": [
        "preds_final = model.predict(test)"
      ],
      "metadata": {
        "id": "jKuzmVJswiRZ"
      },
      "execution_count": null,
      "outputs": []
    },
    {
      "cell_type": "code",
      "source": [
        "preds_final_class = pd.DataFrame(np.argmax(preds_final, axis = 1))"
      ],
      "metadata": {
        "id": "PepVGC7Rwwlw"
      },
      "execution_count": null,
      "outputs": []
    },
    {
      "cell_type": "code",
      "source": [
        "sample_submission = pd.read_csv('sample_submission.csv')"
      ],
      "metadata": {
        "id": "1kdLLEaOy1OW"
      },
      "execution_count": null,
      "outputs": []
    },
    {
      "cell_type": "code",
      "source": [
        "sample_submission"
      ],
      "metadata": {
        "id": "_KWfn-ySy630"
      },
      "execution_count": null,
      "outputs": []
    },
    {
      "cell_type": "code",
      "source": [
        "sample_submission['Label'] = preds_final_class"
      ],
      "metadata": {
        "id": "g9Ro-Qgay9E5"
      },
      "execution_count": null,
      "outputs": []
    },
    {
      "cell_type": "code",
      "source": [
        "sample_submission"
      ],
      "metadata": {
        "id": "56RuMPeJzUP0"
      },
      "execution_count": null,
      "outputs": []
    },
    {
      "cell_type": "code",
      "source": [
        "sample_submission.to_csv('Final_Submission.csv', index=False)"
      ],
      "metadata": {
        "id": "MUt86FY2zvCF"
      },
      "execution_count": null,
      "outputs": []
    },
    {
      "cell_type": "code",
      "source": [
        "sample_submission.describe()"
      ],
      "metadata": {
        "id": "ugGmOs1G0FLz"
      },
      "execution_count": null,
      "outputs": []
    }
  ]
}